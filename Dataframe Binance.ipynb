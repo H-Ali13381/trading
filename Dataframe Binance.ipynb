{
 "cells": [
  {
   "cell_type": "code",
   "execution_count": 1,
   "id": "834ea97c-9912-480c-915c-da7ee66cfa4c",
   "metadata": {},
   "outputs": [],
   "source": [
    "import pandas as pd\n",
    "import ccxt"
   ]
  },
  {
   "cell_type": "code",
   "execution_count": 2,
   "id": "6db1b8da-6e2b-408e-a03c-bab4a64c5b2b",
   "metadata": {},
   "outputs": [],
   "source": [
    "exchange = ccxt.binance()"
   ]
  },
  {
   "cell_type": "code",
   "execution_count": 3,
   "id": "52850466-3c87-4b74-8bbd-c3c50e59927b",
   "metadata": {},
   "outputs": [],
   "source": [
    "# Fetch OHLCV data\n",
    "symbol = 'BTC/USDT'  # Specify your trading pair\n",
    "timeframe = '1h'     # Timeframe (1d for daily data)\n",
    "limit = None         # Number of data points to fetch\n",
    "\n",
    "ohlcv = exchange.fetch_ohlcv(symbol, timeframe, limit=limit)"
   ]
  },
  {
   "cell_type": "code",
   "execution_count": 5,
   "id": "93061eab-d0a8-4659-b346-7796ddd3b59e",
   "metadata": {},
   "outputs": [
    {
     "data": {
      "text/html": [
       "<div>\n",
       "<style scoped>\n",
       "    .dataframe tbody tr th:only-of-type {\n",
       "        vertical-align: middle;\n",
       "    }\n",
       "\n",
       "    .dataframe tbody tr th {\n",
       "        vertical-align: top;\n",
       "    }\n",
       "\n",
       "    .dataframe thead th {\n",
       "        text-align: right;\n",
       "    }\n",
       "</style>\n",
       "<table border=\"1\" class=\"dataframe\">\n",
       "  <thead>\n",
       "    <tr style=\"text-align: right;\">\n",
       "      <th></th>\n",
       "      <th>Date</th>\n",
       "      <th>Open</th>\n",
       "      <th>High</th>\n",
       "      <th>Low</th>\n",
       "      <th>Close</th>\n",
       "      <th>Volume</th>\n",
       "    </tr>\n",
       "  </thead>\n",
       "  <tbody>\n",
       "    <tr>\n",
       "      <th>0</th>\n",
       "      <td>2024-10-20 22:00:00</td>\n",
       "      <td>68770.00</td>\n",
       "      <td>69400.00</td>\n",
       "      <td>68600.00</td>\n",
       "      <td>69137.28</td>\n",
       "      <td>2772.83894</td>\n",
       "    </tr>\n",
       "    <tr>\n",
       "      <th>1</th>\n",
       "      <td>2024-10-20 23:00:00</td>\n",
       "      <td>69137.28</td>\n",
       "      <td>69196.16</td>\n",
       "      <td>68923.32</td>\n",
       "      <td>69031.99</td>\n",
       "      <td>934.63300</td>\n",
       "    </tr>\n",
       "    <tr>\n",
       "      <th>2</th>\n",
       "      <td>2024-10-21 00:00:00</td>\n",
       "      <td>69032.00</td>\n",
       "      <td>69519.52</td>\n",
       "      <td>68972.56</td>\n",
       "      <td>69160.00</td>\n",
       "      <td>1511.98728</td>\n",
       "    </tr>\n",
       "    <tr>\n",
       "      <th>3</th>\n",
       "      <td>2024-10-21 01:00:00</td>\n",
       "      <td>69160.00</td>\n",
       "      <td>69480.00</td>\n",
       "      <td>69106.00</td>\n",
       "      <td>69210.89</td>\n",
       "      <td>726.66974</td>\n",
       "    </tr>\n",
       "    <tr>\n",
       "      <th>4</th>\n",
       "      <td>2024-10-21 02:00:00</td>\n",
       "      <td>69210.88</td>\n",
       "      <td>69266.64</td>\n",
       "      <td>68709.87</td>\n",
       "      <td>68710.00</td>\n",
       "      <td>1082.59587</td>\n",
       "    </tr>\n",
       "    <tr>\n",
       "      <th>...</th>\n",
       "      <td>...</td>\n",
       "      <td>...</td>\n",
       "      <td>...</td>\n",
       "      <td>...</td>\n",
       "      <td>...</td>\n",
       "      <td>...</td>\n",
       "    </tr>\n",
       "    <tr>\n",
       "      <th>494</th>\n",
       "      <td>2024-11-10 12:00:00</td>\n",
       "      <td>79844.00</td>\n",
       "      <td>80080.00</td>\n",
       "      <td>79268.15</td>\n",
       "      <td>79654.00</td>\n",
       "      <td>3270.28363</td>\n",
       "    </tr>\n",
       "    <tr>\n",
       "      <th>495</th>\n",
       "      <td>2024-11-10 13:00:00</td>\n",
       "      <td>79654.00</td>\n",
       "      <td>79899.90</td>\n",
       "      <td>79540.00</td>\n",
       "      <td>79728.01</td>\n",
       "      <td>1458.86412</td>\n",
       "    </tr>\n",
       "    <tr>\n",
       "      <th>496</th>\n",
       "      <td>2024-11-10 14:00:00</td>\n",
       "      <td>79728.01</td>\n",
       "      <td>79960.00</td>\n",
       "      <td>79200.00</td>\n",
       "      <td>79508.01</td>\n",
       "      <td>2759.50281</td>\n",
       "    </tr>\n",
       "    <tr>\n",
       "      <th>497</th>\n",
       "      <td>2024-11-10 15:00:00</td>\n",
       "      <td>79508.00</td>\n",
       "      <td>79758.88</td>\n",
       "      <td>79379.90</td>\n",
       "      <td>79694.03</td>\n",
       "      <td>1527.98427</td>\n",
       "    </tr>\n",
       "    <tr>\n",
       "      <th>498</th>\n",
       "      <td>2024-11-10 16:00:00</td>\n",
       "      <td>79694.03</td>\n",
       "      <td>79782.29</td>\n",
       "      <td>79486.01</td>\n",
       "      <td>79775.99</td>\n",
       "      <td>1313.89455</td>\n",
       "    </tr>\n",
       "  </tbody>\n",
       "</table>\n",
       "<p>499 rows × 6 columns</p>\n",
       "</div>"
      ],
      "text/plain": [
       "                   Date      Open      High       Low     Close      Volume\n",
       "0   2024-10-20 22:00:00  68770.00  69400.00  68600.00  69137.28  2772.83894\n",
       "1   2024-10-20 23:00:00  69137.28  69196.16  68923.32  69031.99   934.63300\n",
       "2   2024-10-21 00:00:00  69032.00  69519.52  68972.56  69160.00  1511.98728\n",
       "3   2024-10-21 01:00:00  69160.00  69480.00  69106.00  69210.89   726.66974\n",
       "4   2024-10-21 02:00:00  69210.88  69266.64  68709.87  68710.00  1082.59587\n",
       "..                  ...       ...       ...       ...       ...         ...\n",
       "494 2024-11-10 12:00:00  79844.00  80080.00  79268.15  79654.00  3270.28363\n",
       "495 2024-11-10 13:00:00  79654.00  79899.90  79540.00  79728.01  1458.86412\n",
       "496 2024-11-10 14:00:00  79728.01  79960.00  79200.00  79508.01  2759.50281\n",
       "497 2024-11-10 15:00:00  79508.00  79758.88  79379.90  79694.03  1527.98427\n",
       "498 2024-11-10 16:00:00  79694.03  79782.29  79486.01  79775.99  1313.89455\n",
       "\n",
       "[499 rows x 6 columns]"
      ]
     },
     "execution_count": 5,
     "metadata": {},
     "output_type": "execute_result"
    }
   ],
   "source": [
    "# Create a DataFrame\n",
    "df = pd.DataFrame(ohlcv, columns=['Date', 'Open', 'High', 'Low', 'Close', 'Volume'])\n",
    "\n",
    "# Convert timestamp to datetime\n",
    "df['Date'] = pd.to_datetime(df['Date'], unit='ms')\n",
    "\n",
    "# Display the DataFrame\n",
    "df = df.drop(499)\n",
    "df"
   ]
  },
  {
   "cell_type": "code",
   "execution_count": 5,
   "id": "dcb2bb6c-87ed-41aa-af90-4753690d024a",
   "metadata": {},
   "outputs": [],
   "source": [
    "#df.to_pickle('BTC-USDT-Daily')"
   ]
  },
  {
   "cell_type": "code",
   "execution_count": 10,
   "id": "c644bb56-e159-4a60-8ecc-4b62109b3ee4",
   "metadata": {},
   "outputs": [],
   "source": [
    "#df.to_pickle('BTC-USDT-Hourly')"
   ]
  },
  {
   "cell_type": "code",
   "execution_count": 6,
   "id": "ec4c8d0b-d55f-4b5d-9e13-35cec2a58df5",
   "metadata": {},
   "outputs": [
    {
     "data": {
      "text/plain": [
       "[[1731258000000, 79776.0, 79850.0, 79648.0, 79850.0, 319.46384]]"
      ]
     },
     "execution_count": 6,
     "metadata": {},
     "output_type": "execute_result"
    }
   ],
   "source": [
    "# Fetch OHLCV data\n",
    "symbol = 'BTC/USDT'  # Specify your trading pair\n",
    "timeframe = '1h'     # Timeframe (1d for daily data)\n",
    "limit = None         # Number of data points to fetch\n",
    "\n",
    "ohlcv = exchange.fetch_ohlcv(symbol, timeframe, limit=1)\n",
    "ohlcv"
   ]
  },
  {
   "cell_type": "code",
   "execution_count": 8,
   "id": "96fab374-3225-4345-9eb8-e5f82d8e1e8c",
   "metadata": {},
   "outputs": [
    {
     "data": {
      "text/html": [
       "<div>\n",
       "<style scoped>\n",
       "    .dataframe tbody tr th:only-of-type {\n",
       "        vertical-align: middle;\n",
       "    }\n",
       "\n",
       "    .dataframe tbody tr th {\n",
       "        vertical-align: top;\n",
       "    }\n",
       "\n",
       "    .dataframe thead th {\n",
       "        text-align: right;\n",
       "    }\n",
       "</style>\n",
       "<table border=\"1\" class=\"dataframe\">\n",
       "  <thead>\n",
       "    <tr style=\"text-align: right;\">\n",
       "      <th></th>\n",
       "      <th>Date</th>\n",
       "      <th>Open</th>\n",
       "      <th>High</th>\n",
       "      <th>Low</th>\n",
       "      <th>Close</th>\n",
       "      <th>Volume</th>\n",
       "    </tr>\n",
       "  </thead>\n",
       "  <tbody>\n",
       "    <tr>\n",
       "      <th>0</th>\n",
       "      <td>2024-11-10 17:00:00</td>\n",
       "      <td>79776.0</td>\n",
       "      <td>79850.0</td>\n",
       "      <td>79648.0</td>\n",
       "      <td>79850.0</td>\n",
       "      <td>319.46384</td>\n",
       "    </tr>\n",
       "  </tbody>\n",
       "</table>\n",
       "</div>"
      ],
      "text/plain": [
       "                 Date     Open     High      Low    Close     Volume\n",
       "0 2024-11-10 17:00:00  79776.0  79850.0  79648.0  79850.0  319.46384"
      ]
     },
     "execution_count": 8,
     "metadata": {},
     "output_type": "execute_result"
    }
   ],
   "source": [
    "# Create a DataFrame\n",
    "df = pd.DataFrame(ohlcv, columns=['Date', 'Open', 'High', 'Low', 'Close', 'Volume'])\n",
    "\n",
    "# Convert timestamp to datetime\n",
    "df['Date'] = pd.to_datetime(df['Date'], unit='ms')\n",
    "\n",
    "# Display the DataFrame\n",
    "df"
   ]
  },
  {
   "cell_type": "code",
   "execution_count": null,
   "id": "07afa9f9-abc8-4bc7-b8a7-a5cb425669af",
   "metadata": {},
   "outputs": [],
   "source": []
  }
 ],
 "metadata": {
  "kernelspec": {
   "display_name": "Python 3 (ipykernel)",
   "language": "python",
   "name": "python3"
  },
  "language_info": {
   "codemirror_mode": {
    "name": "ipython",
    "version": 3
   },
   "file_extension": ".py",
   "mimetype": "text/x-python",
   "name": "python",
   "nbconvert_exporter": "python",
   "pygments_lexer": "ipython3",
   "version": "3.12.7"
  }
 },
 "nbformat": 4,
 "nbformat_minor": 5
}
