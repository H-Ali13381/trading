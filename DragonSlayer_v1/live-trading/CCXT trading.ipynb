{
 "cells": [
  {
   "cell_type": "code",
   "execution_count": 1,
   "id": "3b982b16-81c9-4243-9084-a5598c41e708",
   "metadata": {},
   "outputs": [],
   "source": [
    "import ccxt\n",
    "import pandas as pd"
   ]
  },
  {
   "cell_type": "code",
   "execution_count": 3,
   "id": "9ec827ee-bb8c-433e-918c-2a34aa859031",
   "metadata": {},
   "outputs": [],
   "source": [
    "exchange = ccxt.coinbaseadvanced()"
   ]
  },
  {
   "cell_type": "code",
   "execution_count": 4,
   "id": "8f145ef5-b95d-4c94-a135-2c0b1112fafb",
   "metadata": {},
   "outputs": [
    {
     "data": {
      "text/plain": [
       "{'apiKey': True,\n",
       " 'secret': True,\n",
       " 'uid': False,\n",
       " 'accountId': False,\n",
       " 'login': False,\n",
       " 'password': False,\n",
       " 'twofa': False,\n",
       " 'privateKey': False,\n",
       " 'walletAddress': False,\n",
       " 'token': False}"
      ]
     },
     "execution_count": 4,
     "metadata": {},
     "output_type": "execute_result"
    }
   ],
   "source": [
    "exchange.requiredCredentials"
   ]
  },
  {
   "cell_type": "code",
   "execution_count": null,
   "id": "0bb7b4d5-6a73-4ea1-a130-0912ff52f39b",
   "metadata": {},
   "outputs": [],
   "source": []
  }
 ],
 "metadata": {
  "kernelspec": {
   "display_name": "Python 3 (ipykernel)",
   "language": "python",
   "name": "python3"
  },
  "language_info": {
   "codemirror_mode": {
    "name": "ipython",
    "version": 3
   },
   "file_extension": ".py",
   "mimetype": "text/x-python",
   "name": "python",
   "nbconvert_exporter": "python",
   "pygments_lexer": "ipython3",
   "version": "3.12.7"
  }
 },
 "nbformat": 4,
 "nbformat_minor": 5
}
